{
 "cells": [
  {
   "cell_type": "code",
   "execution_count": 1,
   "metadata": {},
   "outputs": [],
   "source": [
    "from selenium.webdriver.support.ui import WebDriverWait\n",
    "from selenium.webdriver.support import expected_conditions as EC\n",
    "from selenium.webdriver.common.by import By\n",
    "from selenium.webdriver.common.action_chains import ActionChains\n",
    "from selenium import webdriver\n",
    "from webdriver_manager.chrome import ChromeDriverManager\n",
    "import pandas as pd\n",
    "import numpy as np"
   ]
  },
  {
   "cell_type": "code",
   "execution_count": 2,
   "metadata": {},
   "outputs": [
    {
     "name": "stderr",
     "output_type": "stream",
     "text": [
      "[WDM] - Current google-chrome version is 89.0.4389\n",
      "[WDM] - Get LATEST driver version for 89.0.4389\n",
      "[WDM] - Get LATEST driver version for 89.0.4389\n",
      "[WDM] - Trying to download new driver from http://chromedriver.storage.googleapis.com/89.0.4389.23/chromedriver_mac64.zip\n"
     ]
    },
    {
     "name": "stdout",
     "output_type": "stream",
     "text": [
      " \n"
     ]
    },
    {
     "name": "stderr",
     "output_type": "stream",
     "text": [
      "[WDM] - Driver has been saved in cache [/Users/aydin/.wdm/drivers/chromedriver/mac64/89.0.4389.23]\n"
     ]
    }
   ],
   "source": [
    "driver = webdriver.Chrome(ChromeDriverManager().install())"
   ]
  },
  {
   "cell_type": "code",
   "execution_count": 3,
   "metadata": {},
   "outputs": [],
   "source": [
    "driver.implicitly_wait(10)"
   ]
  },
  {
   "cell_type": "code",
   "execution_count": 4,
   "metadata": {},
   "outputs": [],
   "source": [
    "monat_list = ['January','February','March','April','May','June','July','August','September','October','November','December']\n",
    "my_list = []\n",
    "day_list = []\n",
    "for i in monat_list:\n",
    "    for j in range(1,32):\n",
    "    \n",
    "        if i in ['January','March','May','July','August','October','December']:\n",
    "            path = i + \"_\" + str(j)\n",
    "            path = \"https://en.wikipedia.org/wiki/\" + path\n",
    "            driver.get(path)\n",
    "            a = driver.find_element_by_xpath('//*[@id=\"mw-content-text\"]')\n",
    "            a = a.text\n",
    "            a = a[a.find('Births[edit]'): a.rfind('Deaths')]\n",
    "            my_list.append(a)\n",
    "            day = i + \" \" + str(j)\n",
    "            day_list.append(day)\n",
    "        elif (i in ['April','June','September','November']) and (j < 31):\n",
    "            path = i + \"_\" + str(j)\n",
    "            path = \"https://en.wikipedia.org/wiki/\" + path\n",
    "            driver.get(path)\n",
    "            a = driver.find_element_by_xpath('//*[@id=\"mw-content-text\"]')\n",
    "            a = a.text\n",
    "            a = a[a.find('Births[edit]'): a.rfind('Deaths')]\n",
    "            my_list.append(a)\n",
    "            day = i + \" \" + str(j)\n",
    "            day_list.append(day)\n",
    "        elif (i == 'February') and (j<30):\n",
    "            path = i + \"_\" + str(j)\n",
    "            path = \"https://en.wikipedia.org/wiki/\" + path\n",
    "            driver.get(path)\n",
    "            a = driver.find_element_by_xpath('//*[@id=\"mw-content-text\"]')\n",
    "            a = a.text\n",
    "            a = a[a.find('Births[edit]'): a.rfind('Deaths')]\n",
    "            my_list.append(a)\n",
    "            day = i + \" \" + str(j)\n",
    "            day_list.append(day)\n",
    "            \n",
    "        \n",
    "        \n",
    "        \n",
    "        \n",
    "        \n",
    "        \n",
    "        "
   ]
  },
  {
   "cell_type": "code",
   "execution_count": 5,
   "metadata": {},
   "outputs": [],
   "source": [
    "df = pd.DataFrame(zip(my_list, day_list), columns=['data','date'])"
   ]
  },
  {
   "cell_type": "code",
   "execution_count": 6,
   "metadata": {},
   "outputs": [
    {
     "data": {
      "text/html": [
       "<div>\n",
       "<style scoped>\n",
       "    .dataframe tbody tr th:only-of-type {\n",
       "        vertical-align: middle;\n",
       "    }\n",
       "\n",
       "    .dataframe tbody tr th {\n",
       "        vertical-align: top;\n",
       "    }\n",
       "\n",
       "    .dataframe thead th {\n",
       "        text-align: right;\n",
       "    }\n",
       "</style>\n",
       "<table border=\"1\" class=\"dataframe\">\n",
       "  <thead>\n",
       "    <tr style=\"text-align: right;\">\n",
       "      <th></th>\n",
       "      <th>data</th>\n",
       "      <th>date</th>\n",
       "    </tr>\n",
       "  </thead>\n",
       "  <tbody>\n",
       "    <tr>\n",
       "      <th>0</th>\n",
       "      <td>Births[edit]\\nPre-1600[edit]\\n766 – Ali al-Rid...</td>\n",
       "      <td>January 1</td>\n",
       "    </tr>\n",
       "    <tr>\n",
       "      <th>1</th>\n",
       "      <td>Births[edit]\\nPre-1600[edit]\\n869 – Yōzei, Jap...</td>\n",
       "      <td>January 2</td>\n",
       "    </tr>\n",
       "    <tr>\n",
       "      <th>2</th>\n",
       "      <td>Births[edit]\\nPre-1600[edit]\\n106 BC – Cicero,...</td>\n",
       "      <td>January 3</td>\n",
       "    </tr>\n",
       "    <tr>\n",
       "      <th>3</th>\n",
       "      <td>Births[edit]\\nPre-1600[edit]\\n659 – Ali ibn Hu...</td>\n",
       "      <td>January 4</td>\n",
       "    </tr>\n",
       "    <tr>\n",
       "      <th>4</th>\n",
       "      <td>Births[edit]\\nPre-1600[edit]\\n1209 – Richard, ...</td>\n",
       "      <td>January 5</td>\n",
       "    </tr>\n",
       "  </tbody>\n",
       "</table>\n",
       "</div>"
      ],
      "text/plain": [
       "                                                data       date\n",
       "0  Births[edit]\\nPre-1600[edit]\\n766 – Ali al-Rid...  January 1\n",
       "1  Births[edit]\\nPre-1600[edit]\\n869 – Yōzei, Jap...  January 2\n",
       "2  Births[edit]\\nPre-1600[edit]\\n106 BC – Cicero,...  January 3\n",
       "3  Births[edit]\\nPre-1600[edit]\\n659 – Ali ibn Hu...  January 4\n",
       "4  Births[edit]\\nPre-1600[edit]\\n1209 – Richard, ...  January 5"
      ]
     },
     "execution_count": 6,
     "metadata": {},
     "output_type": "execute_result"
    }
   ],
   "source": [
    "df.head()"
   ]
  },
  {
   "cell_type": "code",
   "execution_count": 7,
   "metadata": {
    "scrolled": true
   },
   "outputs": [],
   "source": [
    "df_ = pd.DataFrame(columns=['data','date'])\n",
    "c = 0\n",
    "for i in df.date:\n",
    "    a = df[df.date == i]\n",
    "    mylist = a['data'][c].split('\\n')\n",
    "    dlist = ((i + \"  \")*len(mylist)).split('  ')[:-1]\n",
    "    f = pd.DataFrame(zip(mylist, dlist), columns=['data','date'])\n",
    "    df_ = pd.concat([df_, f],ignore_index=True)\n",
    "    c +=1\n"
   ]
  },
  {
   "cell_type": "code",
   "execution_count": 8,
   "metadata": {},
   "outputs": [
    {
     "data": {
      "text/html": [
       "<div>\n",
       "<style scoped>\n",
       "    .dataframe tbody tr th:only-of-type {\n",
       "        vertical-align: middle;\n",
       "    }\n",
       "\n",
       "    .dataframe tbody tr th {\n",
       "        vertical-align: top;\n",
       "    }\n",
       "\n",
       "    .dataframe thead th {\n",
       "        text-align: right;\n",
       "    }\n",
       "</style>\n",
       "<table border=\"1\" class=\"dataframe\">\n",
       "  <thead>\n",
       "    <tr style=\"text-align: right;\">\n",
       "      <th></th>\n",
       "      <th>data</th>\n",
       "      <th>date</th>\n",
       "    </tr>\n",
       "  </thead>\n",
       "  <tbody>\n",
       "    <tr>\n",
       "      <th>0</th>\n",
       "      <td>Births[edit]</td>\n",
       "      <td>January 1</td>\n",
       "    </tr>\n",
       "    <tr>\n",
       "      <th>1</th>\n",
       "      <td>Pre-1600[edit]</td>\n",
       "      <td>January 1</td>\n",
       "    </tr>\n",
       "    <tr>\n",
       "      <th>2</th>\n",
       "      <td>766 – Ali al-Ridha (d. 818) 8th Imam of Twelve...</td>\n",
       "      <td>January 1</td>\n",
       "    </tr>\n",
       "    <tr>\n",
       "      <th>3</th>\n",
       "      <td>1431 – Pope Alexander VI (d. 1503)[98]</td>\n",
       "      <td>January 1</td>\n",
       "    </tr>\n",
       "    <tr>\n",
       "      <th>4</th>\n",
       "      <td>1449 – Lorenzo de' Medici, Italian politician ...</td>\n",
       "      <td>January 1</td>\n",
       "    </tr>\n",
       "    <tr>\n",
       "      <th>...</th>\n",
       "      <td>...</td>\n",
       "      <td>...</td>\n",
       "    </tr>\n",
       "    <tr>\n",
       "      <th>76260</th>\n",
       "      <td>1991 – Noelle Stevenson, American cartoonist</td>\n",
       "      <td>December 31</td>\n",
       "    </tr>\n",
       "    <tr>\n",
       "      <th>76261</th>\n",
       "      <td>1992 – Amy Cure, Australian track cyclist</td>\n",
       "      <td>December 31</td>\n",
       "    </tr>\n",
       "    <tr>\n",
       "      <th>76262</th>\n",
       "      <td>1992 – Karl Kruuda, Estonian racing driver</td>\n",
       "      <td>December 31</td>\n",
       "    </tr>\n",
       "    <tr>\n",
       "      <th>76263</th>\n",
       "      <td>1995 – Gabby Douglas, American gymnast[17]</td>\n",
       "      <td>December 31</td>\n",
       "    </tr>\n",
       "    <tr>\n",
       "      <th>76264</th>\n",
       "      <td></td>\n",
       "      <td>December 31</td>\n",
       "    </tr>\n",
       "  </tbody>\n",
       "</table>\n",
       "<p>76265 rows × 2 columns</p>\n",
       "</div>"
      ],
      "text/plain": [
       "                                                    data         date\n",
       "0                                           Births[edit]    January 1\n",
       "1                                         Pre-1600[edit]    January 1\n",
       "2      766 – Ali al-Ridha (d. 818) 8th Imam of Twelve...    January 1\n",
       "3                 1431 – Pope Alexander VI (d. 1503)[98]    January 1\n",
       "4      1449 – Lorenzo de' Medici, Italian politician ...    January 1\n",
       "...                                                  ...          ...\n",
       "76260       1991 – Noelle Stevenson, American cartoonist  December 31\n",
       "76261          1992 – Amy Cure, Australian track cyclist  December 31\n",
       "76262         1992 – Karl Kruuda, Estonian racing driver  December 31\n",
       "76263         1995 – Gabby Douglas, American gymnast[17]  December 31\n",
       "76264                                                     December 31\n",
       "\n",
       "[76265 rows x 2 columns]"
      ]
     },
     "execution_count": 8,
     "metadata": {},
     "output_type": "execute_result"
    }
   ],
   "source": [
    "df_"
   ]
  },
  {
   "cell_type": "code",
   "execution_count": 9,
   "metadata": {},
   "outputs": [],
   "source": [
    "df_['year']=df_.data.apply(lambda x: x.split(\" – \")[0] if len(x.split(\" – \"))>1 else np.NaN )"
   ]
  },
  {
   "cell_type": "code",
   "execution_count": 10,
   "metadata": {},
   "outputs": [
    {
     "data": {
      "text/html": [
       "<div>\n",
       "<style scoped>\n",
       "    .dataframe tbody tr th:only-of-type {\n",
       "        vertical-align: middle;\n",
       "    }\n",
       "\n",
       "    .dataframe tbody tr th {\n",
       "        vertical-align: top;\n",
       "    }\n",
       "\n",
       "    .dataframe thead th {\n",
       "        text-align: right;\n",
       "    }\n",
       "</style>\n",
       "<table border=\"1\" class=\"dataframe\">\n",
       "  <thead>\n",
       "    <tr style=\"text-align: right;\">\n",
       "      <th></th>\n",
       "      <th>data</th>\n",
       "      <th>date</th>\n",
       "      <th>year</th>\n",
       "    </tr>\n",
       "  </thead>\n",
       "  <tbody>\n",
       "    <tr>\n",
       "      <th>0</th>\n",
       "      <td>Births[edit]</td>\n",
       "      <td>January 1</td>\n",
       "      <td>NaN</td>\n",
       "    </tr>\n",
       "    <tr>\n",
       "      <th>1</th>\n",
       "      <td>Pre-1600[edit]</td>\n",
       "      <td>January 1</td>\n",
       "      <td>NaN</td>\n",
       "    </tr>\n",
       "    <tr>\n",
       "      <th>2</th>\n",
       "      <td>766 – Ali al-Ridha (d. 818) 8th Imam of Twelve...</td>\n",
       "      <td>January 1</td>\n",
       "      <td>766</td>\n",
       "    </tr>\n",
       "    <tr>\n",
       "      <th>3</th>\n",
       "      <td>1431 – Pope Alexander VI (d. 1503)[98]</td>\n",
       "      <td>January 1</td>\n",
       "      <td>1431</td>\n",
       "    </tr>\n",
       "    <tr>\n",
       "      <th>4</th>\n",
       "      <td>1449 – Lorenzo de' Medici, Italian politician ...</td>\n",
       "      <td>January 1</td>\n",
       "      <td>1449</td>\n",
       "    </tr>\n",
       "    <tr>\n",
       "      <th>...</th>\n",
       "      <td>...</td>\n",
       "      <td>...</td>\n",
       "      <td>...</td>\n",
       "    </tr>\n",
       "    <tr>\n",
       "      <th>76260</th>\n",
       "      <td>1991 – Noelle Stevenson, American cartoonist</td>\n",
       "      <td>December 31</td>\n",
       "      <td>1991</td>\n",
       "    </tr>\n",
       "    <tr>\n",
       "      <th>76261</th>\n",
       "      <td>1992 – Amy Cure, Australian track cyclist</td>\n",
       "      <td>December 31</td>\n",
       "      <td>1992</td>\n",
       "    </tr>\n",
       "    <tr>\n",
       "      <th>76262</th>\n",
       "      <td>1992 – Karl Kruuda, Estonian racing driver</td>\n",
       "      <td>December 31</td>\n",
       "      <td>1992</td>\n",
       "    </tr>\n",
       "    <tr>\n",
       "      <th>76263</th>\n",
       "      <td>1995 – Gabby Douglas, American gymnast[17]</td>\n",
       "      <td>December 31</td>\n",
       "      <td>1995</td>\n",
       "    </tr>\n",
       "    <tr>\n",
       "      <th>76264</th>\n",
       "      <td></td>\n",
       "      <td>December 31</td>\n",
       "      <td>NaN</td>\n",
       "    </tr>\n",
       "  </tbody>\n",
       "</table>\n",
       "<p>76265 rows × 3 columns</p>\n",
       "</div>"
      ],
      "text/plain": [
       "                                                    data         date  year\n",
       "0                                           Births[edit]    January 1   NaN\n",
       "1                                         Pre-1600[edit]    January 1   NaN\n",
       "2      766 – Ali al-Ridha (d. 818) 8th Imam of Twelve...    January 1   766\n",
       "3                 1431 – Pope Alexander VI (d. 1503)[98]    January 1  1431\n",
       "4      1449 – Lorenzo de' Medici, Italian politician ...    January 1  1449\n",
       "...                                                  ...          ...   ...\n",
       "76260       1991 – Noelle Stevenson, American cartoonist  December 31  1991\n",
       "76261          1992 – Amy Cure, Australian track cyclist  December 31  1992\n",
       "76262         1992 – Karl Kruuda, Estonian racing driver  December 31  1992\n",
       "76263         1995 – Gabby Douglas, American gymnast[17]  December 31  1995\n",
       "76264                                                     December 31   NaN\n",
       "\n",
       "[76265 rows x 3 columns]"
      ]
     },
     "execution_count": 10,
     "metadata": {},
     "output_type": "execute_result"
    }
   ],
   "source": [
    "df_"
   ]
  },
  {
   "cell_type": "code",
   "execution_count": 11,
   "metadata": {},
   "outputs": [],
   "source": [
    "df_.data = df_.data.apply(lambda x: x.split(\" – \")[1] if len(x.split(\" – \"))>1 else np.NaN )"
   ]
  },
  {
   "cell_type": "code",
   "execution_count": 12,
   "metadata": {},
   "outputs": [],
   "source": [
    "df_.dropna(inplace=True)"
   ]
  },
  {
   "cell_type": "code",
   "execution_count": 13,
   "metadata": {},
   "outputs": [
    {
     "name": "stdout",
     "output_type": "stream",
     "text": [
      "<class 'pandas.core.frame.DataFrame'>\n",
      "Int64Index: 74686 entries, 2 to 76263\n",
      "Data columns (total 3 columns):\n",
      " #   Column  Non-Null Count  Dtype \n",
      "---  ------  --------------  ----- \n",
      " 0   data    74686 non-null  object\n",
      " 1   date    74686 non-null  object\n",
      " 2   year    74686 non-null  object\n",
      "dtypes: object(3)\n",
      "memory usage: 2.3+ MB\n"
     ]
    }
   ],
   "source": [
    "df_.info()"
   ]
  },
  {
   "cell_type": "code",
   "execution_count": 14,
   "metadata": {},
   "outputs": [
    {
     "data": {
      "text/html": [
       "<div>\n",
       "<style scoped>\n",
       "    .dataframe tbody tr th:only-of-type {\n",
       "        vertical-align: middle;\n",
       "    }\n",
       "\n",
       "    .dataframe tbody tr th {\n",
       "        vertical-align: top;\n",
       "    }\n",
       "\n",
       "    .dataframe thead th {\n",
       "        text-align: right;\n",
       "    }\n",
       "</style>\n",
       "<table border=\"1\" class=\"dataframe\">\n",
       "  <thead>\n",
       "    <tr style=\"text-align: right;\">\n",
       "      <th></th>\n",
       "      <th>data</th>\n",
       "      <th>date</th>\n",
       "      <th>year</th>\n",
       "    </tr>\n",
       "  </thead>\n",
       "  <tbody>\n",
       "    <tr>\n",
       "      <th>65946</th>\n",
       "      <td>Trey Burke, American basketball player</td>\n",
       "      <td>November 12</td>\n",
       "      <td>1992</td>\n",
       "    </tr>\n",
       "    <tr>\n",
       "      <th>65947</th>\n",
       "      <td>Adam Larsson, Swedish ice hockey player[25]</td>\n",
       "      <td>November 12</td>\n",
       "      <td>1992</td>\n",
       "    </tr>\n",
       "  </tbody>\n",
       "</table>\n",
       "</div>"
      ],
      "text/plain": [
       "                                              data         date  year\n",
       "65946       Trey Burke, American basketball player  November 12  1992\n",
       "65947  Adam Larsson, Swedish ice hockey player[25]  November 12  1992"
      ]
     },
     "execution_count": 14,
     "metadata": {},
     "output_type": "execute_result"
    }
   ],
   "source": [
    "df_[(df_['date'] == 'November 12') & (df_['year']=='1992')]"
   ]
  },
  {
   "cell_type": "code",
   "execution_count": 15,
   "metadata": {},
   "outputs": [],
   "source": [
    "#df_.to_csv('data.csv')"
   ]
  }
 ],
 "metadata": {
  "kernelspec": {
   "display_name": "Python 3",
   "language": "python",
   "name": "python3"
  },
  "language_info": {
   "codemirror_mode": {
    "name": "ipython",
    "version": 3
   },
   "file_extension": ".py",
   "mimetype": "text/x-python",
   "name": "python",
   "nbconvert_exporter": "python",
   "pygments_lexer": "ipython3",
   "version": "3.7.6"
  }
 },
 "nbformat": 4,
 "nbformat_minor": 4
}
