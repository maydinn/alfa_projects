{
 "cells": [
  {
   "cell_type": "code",
   "execution_count": 1,
   "metadata": {},
   "outputs": [],
   "source": [
    "from selenium import webdriver\n",
    "from selenium.webdriver.support.ui import WebDriverWait\n",
    "from selenium.webdriver.support import expected_conditions as EC\n",
    "from selenium.webdriver.common.by import By\n",
    "from selenium.webdriver.common.action_chains import ActionChains\n",
    "from selenium.webdriver.common.keys import Keys\n",
    "import urllib\n",
    "import time\n",
    "import pandas as pd\n",
    "import numpy as np\n",
    "from PIL import Image, ImageFile\n",
    "ImageFile.LOAD_TRUNCATED_IMAGES = True\n",
    "from tensorflow.keras.preprocessing.image import img_to_array\n",
    "from skimage.color import rgba2rgb"
   ]
  },
  {
   "cell_type": "code",
   "execution_count": 27,
   "metadata": {},
   "outputs": [],
   "source": [
    "#activating firefox\n",
    "driver = webdriver.Firefox()"
   ]
  },
  {
   "cell_type": "code",
   "execution_count": 28,
   "metadata": {},
   "outputs": [],
   "source": [
    "#setting drive to wait until element apparing\n",
    "driver.implicitly_wait(10)"
   ]
  },
  {
   "cell_type": "code",
   "execution_count": 29,
   "metadata": {},
   "outputs": [],
   "source": [
    "driver.get('https://www.ebay-kleinanzeigen.de/s-notebooks/anbieter:privat/anzeige:angebote/preis:100:/seite:10/c278')"
   ]
  },
  {
   "cell_type": "code",
   "execution_count": null,
   "metadata": {},
   "outputs": [],
   "source": [
    "#scraping image link and descriptin from website\n",
    "src = []\n",
    "main = []\n",
    "price = []\n",
    "desc = []\n",
    "\n",
    "\n",
    "for j in range(20,48):\n",
    "    path = f'https://www.ebay-kleinanzeigen.de/s-handy-telekom/lg_handy/anbieter:privat/anzeige:angebote/seite:{j}/c173+handy_telekom.art_s:lg_handy+handy_telekom.device_equipment_s:only_device'\n",
    "    driver.get(path)\n",
    "    for i in range(1,26):\n",
    "        try:\n",
    "            if i < 10: \n",
    "                time.sleep(2)\n",
    "                driver.execute_script(\"window.scrollBy(0, 500)\")\n",
    "                time.sleep(2)\n",
    "            elif i < 20:\n",
    "                time.sleep(2)\n",
    "                driver.execute_script(\"window.scrollBy(0, 1000)\")\n",
    "                time.sleep(2)\n",
    "            elif i < 30:\n",
    "                time.sleep(2)\n",
    "                driver.execute_script(\"window.scrollBy(0, 500)\")\n",
    "                driver.execute_script(\"window.scrollBy(0, 500)\")\n",
    "                driver.execute_script(\"window.scrollBy(0, 500)\")\n",
    "                time.sleep(2)\n",
    "            x = f'/html/body/div[1]/div[2]/div/div[3]/div[2]/div[2]/div[2]/ul/li[{i}]/article/div[1]/a/div/img'\n",
    "            a = WebDriverWait(driver, 10).until(\n",
    "            EC.presence_of_element_located((By.XPATH, x)))\n",
    "            s = a.get_attribute('src')\n",
    "            x = f'/html/body/div[1]/div[2]/div/div[3]/div[2]/div[2]/div[2]/ul/li[{i}]/article/div[2]/div[2]/h2/a'\n",
    "            a = WebDriverWait(driver, 10).until(\n",
    "            EC.presence_of_element_located((By.XPATH, x)))\n",
    "            m = a.text\n",
    "            x = f'/html/body/div[1]/div[2]/div/div[3]/div[2]/div[2]/div[2]/ul/li[{i}]/article/div[2]/div[2]/p[1]'\n",
    "            a = WebDriverWait(driver, 10).until(\n",
    "            EC.presence_of_element_located((By.XPATH, x)))\n",
    "            d = a.text\n",
    "            x = f'/html/body/div[1]/div[2]/div/div[3]/div[2]/div[2]/div[2]/ul/li[{i}]/article/div[2]/div[2]/p[2]'\n",
    "            a = WebDriverWait(driver, 10).until(\n",
    "            EC.presence_of_element_located((By.XPATH, x)))\n",
    "            p = a.text\n",
    "            \n",
    "    \n",
    "            \n",
    "            if s != \"\" and m != \"\" and p != \"\" and d != \"\" and (s not in sr) and (s not in src):\n",
    "                src.append(s)\n",
    "                main.append(m)\n",
    "                price.append(p)\n",
    "                desc.append(d)\n",
    "                if len(src) > 1 and len(src) < 3:\n",
    "                    print(pd.DataFrame(zip(src,main,price,desc)).tail(2))\n",
    "            \n",
    "            print(\"try\",j,i)\n",
    "        except:\n",
    "            driver.get(path)\n",
    "            time.sleep(2)\n",
    "            driver.execute_script(\"window.scrollBy(0, 1000)\")\n",
    "            driver.execute_script(\"window.scrollBy(0, 1000)\")\n",
    "            time.sleep(2)\n",
    "            print(\"cont\",j,i)\n",
    "        print(len(src))              \n",
    "        \n",
    "    if len(src) > 50:\n",
    "        break"
   ]
  },
  {
   "cell_type": "code",
   "execution_count": 42,
   "metadata": {},
   "outputs": [
    {
     "data": {
      "text/plain": [
       "'https://i.ebayimg.com/00/s/MTYwMFgxMjAw/z/5dIAAOSwux1hRI9j/$_2.JPG'"
      ]
     },
     "execution_count": 42,
     "metadata": {},
     "output_type": "execute_result"
    }
   ],
   "source": [
    "src[0]"
   ]
  },
  {
   "cell_type": "code",
   "execution_count": 6,
   "metadata": {},
   "outputs": [],
   "source": [
    "#making data frame based on phone labes\n",
    "df = pd.DataFrame(zip(src,main,desc,price,['apple' for i in range(len(src))])).drop_duplicates()\n",
    "df.columns = ['link','main','dec','price','marka'] "
   ]
  },
  {
   "cell_type": "code",
   "execution_count": 8,
   "metadata": {},
   "outputs": [],
   "source": [
    "df_ = pd.DataFrame(zip(src,main,desc,price,['samsung' for i in range(len(src))])).drop_duplicates()\n",
    "df_.columns = ['link','main','dec','price','marka'] "
   ]
  },
  {
   "cell_type": "code",
   "execution_count": 12,
   "metadata": {},
   "outputs": [],
   "source": [
    "df_n = pd.DataFrame(zip(src,main,desc,price,['nokia' for i in range(len(src))])).drop_duplicates()\n",
    "df_n.columns = ['link','main','dec','price','marka'] "
   ]
  },
  {
   "cell_type": "code",
   "execution_count": 31,
   "metadata": {},
   "outputs": [],
   "source": [
    "df_h = pd.DataFrame(zip(src,main,desc,price,['htc' for i in range(len(src))])).drop_duplicates()\n",
    "df_h.columns = ['link','main','dec','price','marka'] "
   ]
  },
  {
   "cell_type": "code",
   "execution_count": 35,
   "metadata": {},
   "outputs": [],
   "source": [
    "df_l = pd.DataFrame(zip(src,main,desc,price,['lg' for i in range(len(src))])).drop_duplicates()\n",
    "df_l.columns = ['link','main','dec','price','marka'] "
   ]
  },
  {
   "cell_type": "code",
   "execution_count": 36,
   "metadata": {
    "scrolled": true
   },
   "outputs": [],
   "source": [
    "df_t = pd.concat([df,df_, df_n,df_h,df_l]).reset_index().drop('index',1)"
   ]
  },
  {
   "cell_type": "code",
   "execution_count": 118,
   "metadata": {},
   "outputs": [],
   "source": [
    "#making array to save images\n",
    "img_array = []\n",
    "\n",
    "\n",
    "for i in range(df_t):\n",
    "    path = df_t.link[i]\n",
    "    driver.get(path)\n",
    "    x = '/html/body/img'\n",
    "    a = WebDriverWait(driver, 100).until(\n",
    "            EC.presence_of_element_located((By.XPATH, x)))\n",
    "    with open(f'name0', 'wb') as file:\n",
    "        file.write(a.screenshot_as_png)\n",
    "    time.sleep(1)\n",
    "    im = Image.open(\"name0\")\n",
    "    X = img_to_array(im)\n",
    "    img = im.resize((128,128), Image.ANTIALIAS)\n",
    "    img_array.append(rgba2rgb(img_to_array(img)/255))\n",
    "    print(i)\n",
    "\n",
    "np.save('mod.npy', np.array(img_array))"
   ]
  },
  {
   "cell_type": "code",
   "execution_count": null,
   "metadata": {},
   "outputs": [],
   "source": []
  }
 ],
 "metadata": {
  "kernelspec": {
   "display_name": "Python 3",
   "language": "python",
   "name": "python3"
  },
  "language_info": {
   "codemirror_mode": {
    "name": "ipython",
    "version": 3
   },
   "file_extension": ".py",
   "mimetype": "text/x-python",
   "name": "python",
   "nbconvert_exporter": "python",
   "pygments_lexer": "ipython3",
   "version": "3.7.6"
  }
 },
 "nbformat": 4,
 "nbformat_minor": 4
}
