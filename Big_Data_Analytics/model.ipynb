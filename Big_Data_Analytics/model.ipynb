{
 "cells": [
  {
   "cell_type": "code",
   "execution_count": 1,
   "metadata": {},
   "outputs": [],
   "source": [
    "#importing libraries\n",
    "import pandas as pd\n",
    "import seaborn as sns\n",
    "import matplotlib.pyplot as plt\n",
    "import numpy as np\n",
    "import warnings\n",
    "warnings.filterwarnings(\"ignore\", category=FutureWarning)"
   ]
  },
  {
   "cell_type": "code",
   "execution_count": 2,
   "metadata": {},
   "outputs": [],
   "source": [
    "#importing dataset\n",
    "df = pd.read_csv('model_data.csv', index_col=0)"
   ]
  },
  {
   "cell_type": "code",
   "execution_count": 3,
   "metadata": {},
   "outputs": [
    {
     "name": "stdout",
     "output_type": "stream",
     "text": [
      "<class 'pandas.core.frame.DataFrame'>\n",
      "Int64Index: 3039 entries, 120 to 12809\n",
      "Data columns (total 21 columns):\n",
      " #   Column         Non-Null Count  Dtype  \n",
      "---  ------         --------------  -----  \n",
      " 0   country        3039 non-null   object \n",
      " 1   year           3039 non-null   int64  \n",
      " 2   rgdpe          3039 non-null   float64\n",
      " 3   rgdpo          3039 non-null   float64\n",
      " 4   pop            3039 non-null   float64\n",
      " 5   hc             2539 non-null   float64\n",
      " 6   csh_i          3039 non-null   float64\n",
      " 7   csh_g          3039 non-null   float64\n",
      " 8   rtfpna         2119 non-null   float64\n",
      " 9   trade          2860 non-null   float64\n",
      " 10  life_expt      2850 non-null   float64\n",
      " 11  inflation      2798 non-null   float64\n",
      " 12  exchange_rate  2663 non-null   float64\n",
      " 13  military_expt  2622 non-null   float64\n",
      " 14  score          1151 non-null   float64\n",
      " 15  polity2        1854 non-null   float64\n",
      " 16  Status         3039 non-null   float64\n",
      " 17  gdp_per        3039 non-null   float64\n",
      " 18  share_of_gdp   3039 non-null   float64\n",
      " 19  share_of_pop   3039 non-null   float64\n",
      " 20  code           3039 non-null   object \n",
      "dtypes: float64(18), int64(1), object(2)\n",
      "memory usage: 522.3+ KB\n"
     ]
    }
   ],
   "source": [
    "df.info()"
   ]
  },
  {
   "cell_type": "markdown",
   "metadata": {},
   "source": [
    "### model;\n",
    "#### status = (hc,gdp_per,life_expt) + csh_i + csh_g + rtfpna + inflation  + exchange_rate + (share_of_gdp,share_of_pop) + year + [military_expt]"
   ]
  },
  {
   "cell_type": "code",
   "execution_count": 4,
   "metadata": {},
   "outputs": [],
   "source": [
    "#selecting required columsn for the model\n",
    "df_model = df[['hc', 'csh_i', 'csh_g','rtfpna','inflation','exchange_rate','share_of_gdp','year','Status']]"
   ]
  },
  {
   "cell_type": "code",
   "execution_count": 5,
   "metadata": {},
   "outputs": [
    {
     "name": "stderr",
     "output_type": "stream",
     "text": [
      "/Users/aydin/opt/anaconda3/lib/python3.7/site-packages/ipykernel_launcher.py:1: SettingWithCopyWarning: \n",
      "A value is trying to be set on a copy of a slice from a DataFrame\n",
      "\n",
      "See the caveats in the documentation: https://pandas.pydata.org/pandas-docs/stable/user_guide/indexing.html#returning-a-view-versus-a-copy\n",
      "  \"\"\"Entry point for launching an IPython kernel.\n"
     ]
    }
   ],
   "source": [
    "df_model.dropna(inplace=True)"
   ]
  },
  {
   "cell_type": "code",
   "execution_count": 6,
   "metadata": {},
   "outputs": [
    {
     "name": "stdout",
     "output_type": "stream",
     "text": [
      "<class 'pandas.core.frame.DataFrame'>\n",
      "Int64Index: 1683 entries, 120 to 12739\n",
      "Data columns (total 9 columns):\n",
      " #   Column         Non-Null Count  Dtype  \n",
      "---  ------         --------------  -----  \n",
      " 0   hc             1683 non-null   float64\n",
      " 1   csh_i          1683 non-null   float64\n",
      " 2   csh_g          1683 non-null   float64\n",
      " 3   rtfpna         1683 non-null   float64\n",
      " 4   inflation      1683 non-null   float64\n",
      " 5   exchange_rate  1683 non-null   float64\n",
      " 6   share_of_gdp   1683 non-null   float64\n",
      " 7   year           1683 non-null   int64  \n",
      " 8   Status         1683 non-null   float64\n",
      "dtypes: float64(8), int64(1)\n",
      "memory usage: 131.5 KB\n"
     ]
    }
   ],
   "source": [
    "df_model.info()"
   ]
  },
  {
   "cell_type": "code",
   "execution_count": 7,
   "metadata": {},
   "outputs": [],
   "source": [
    "#defining independent variables\n",
    "X = df_model.drop('Status',1)"
   ]
  },
  {
   "cell_type": "code",
   "execution_count": 8,
   "metadata": {},
   "outputs": [],
   "source": [
    "#defining dependent variables\n",
    "y = df_model['Status']"
   ]
  },
  {
   "cell_type": "code",
   "execution_count": 9,
   "metadata": {},
   "outputs": [],
   "source": [
    "from sklearn.model_selection import train_test_split"
   ]
  },
  {
   "cell_type": "code",
   "execution_count": 10,
   "metadata": {},
   "outputs": [],
   "source": [
    "X_train, X_test, y_train, y_test = train_test_split(X,y,test_size=0.20, random_state=42)"
   ]
  },
  {
   "cell_type": "code",
   "execution_count": 11,
   "metadata": {},
   "outputs": [],
   "source": [
    "#importing svc model\n",
    "from sklearn.svm import SVC"
   ]
  },
  {
   "cell_type": "code",
   "execution_count": 12,
   "metadata": {},
   "outputs": [],
   "source": [
    "model = SVC()"
   ]
  },
  {
   "cell_type": "code",
   "execution_count": 13,
   "metadata": {},
   "outputs": [
    {
     "data": {
      "text/plain": [
       "SVC()"
      ]
     },
     "execution_count": 13,
     "metadata": {},
     "output_type": "execute_result"
    }
   ],
   "source": [
    "#training the model\n",
    "model.fit(X_train,y_train)"
   ]
  },
  {
   "cell_type": "code",
   "execution_count": 14,
   "metadata": {},
   "outputs": [],
   "source": [
    "model_svm = model"
   ]
  },
  {
   "cell_type": "code",
   "execution_count": 15,
   "metadata": {},
   "outputs": [],
   "source": [
    "#predictions based on model\n",
    "predictions = model.predict(X_test)"
   ]
  },
  {
   "cell_type": "code",
   "execution_count": 16,
   "metadata": {},
   "outputs": [],
   "source": [
    "from sklearn.metrics import classification_report,confusion_matrix, f1_score, accuracy_score"
   ]
  },
  {
   "cell_type": "code",
   "execution_count": 17,
   "metadata": {},
   "outputs": [
    {
     "data": {
      "text/plain": [
       "array([[  0,   5,  44],\n",
       "       [  0,  11,  98],\n",
       "       [  0,   2, 177]])"
      ]
     },
     "execution_count": 17,
     "metadata": {},
     "output_type": "execute_result"
    }
   ],
   "source": [
    "#results\n",
    "confusion_matrix(y_test,predictions)"
   ]
  },
  {
   "cell_type": "code",
   "execution_count": 18,
   "metadata": {},
   "outputs": [
    {
     "name": "stdout",
     "output_type": "stream",
     "text": [
      "              precision    recall  f1-score   support\n",
      "\n",
      "         1.0       0.00      0.00      0.00        49\n",
      "         2.0       0.61      0.10      0.17       109\n",
      "         3.0       0.55      0.99      0.71       179\n",
      "\n",
      "    accuracy                           0.56       337\n",
      "   macro avg       0.39      0.36      0.29       337\n",
      "weighted avg       0.49      0.56      0.43       337\n",
      "\n"
     ]
    },
    {
     "name": "stderr",
     "output_type": "stream",
     "text": [
      "/Users/aydin/opt/anaconda3/lib/python3.7/site-packages/sklearn/metrics/_classification.py:1245: UndefinedMetricWarning: Precision and F-score are ill-defined and being set to 0.0 in labels with no predicted samples. Use `zero_division` parameter to control this behavior.\n",
      "  _warn_prf(average, modifier, msg_start, len(result))\n",
      "/Users/aydin/opt/anaconda3/lib/python3.7/site-packages/sklearn/metrics/_classification.py:1245: UndefinedMetricWarning: Precision and F-score are ill-defined and being set to 0.0 in labels with no predicted samples. Use `zero_division` parameter to control this behavior.\n",
      "  _warn_prf(average, modifier, msg_start, len(result))\n",
      "/Users/aydin/opt/anaconda3/lib/python3.7/site-packages/sklearn/metrics/_classification.py:1245: UndefinedMetricWarning: Precision and F-score are ill-defined and being set to 0.0 in labels with no predicted samples. Use `zero_division` parameter to control this behavior.\n",
      "  _warn_prf(average, modifier, msg_start, len(result))\n"
     ]
    }
   ],
   "source": [
    "#results\n",
    "print(classification_report(y_test,predictions))"
   ]
  },
  {
   "cell_type": "code",
   "execution_count": 19,
   "metadata": {},
   "outputs": [],
   "source": [
    "from sklearn.ensemble import RandomForestClassifier"
   ]
  },
  {
   "cell_type": "code",
   "execution_count": 20,
   "metadata": {},
   "outputs": [],
   "source": [
    "model = RandomForestClassifier(n_estimators=600)"
   ]
  },
  {
   "cell_type": "code",
   "execution_count": 21,
   "metadata": {},
   "outputs": [
    {
     "data": {
      "text/plain": [
       "RandomForestClassifier(n_estimators=600)"
      ]
     },
     "execution_count": 21,
     "metadata": {},
     "output_type": "execute_result"
    }
   ],
   "source": [
    "#traing the model\n",
    "model.fit(X_train,y_train)"
   ]
  },
  {
   "cell_type": "code",
   "execution_count": 22,
   "metadata": {},
   "outputs": [],
   "source": [
    "model_rf = model"
   ]
  },
  {
   "cell_type": "code",
   "execution_count": 23,
   "metadata": {},
   "outputs": [],
   "source": [
    "#predictions based on model\n",
    "predictions = model.predict(X_test)"
   ]
  },
  {
   "cell_type": "code",
   "execution_count": 24,
   "metadata": {},
   "outputs": [
    {
     "data": {
      "text/plain": [
       "array([[ 44,   2,   3],\n",
       "       [  4,  98,   7],\n",
       "       [  4,   5, 170]])"
      ]
     },
     "execution_count": 24,
     "metadata": {},
     "output_type": "execute_result"
    }
   ],
   "source": [
    "#results\n",
    "confusion_matrix(y_test,predictions)"
   ]
  },
  {
   "cell_type": "code",
   "execution_count": 25,
   "metadata": {},
   "outputs": [
    {
     "name": "stdout",
     "output_type": "stream",
     "text": [
      "              precision    recall  f1-score   support\n",
      "\n",
      "         1.0       0.85      0.90      0.87        49\n",
      "         2.0       0.93      0.90      0.92       109\n",
      "         3.0       0.94      0.95      0.95       179\n",
      "\n",
      "    accuracy                           0.93       337\n",
      "   macro avg       0.91      0.92      0.91       337\n",
      "weighted avg       0.93      0.93      0.93       337\n",
      "\n"
     ]
    }
   ],
   "source": [
    "#results\n",
    "print(classification_report(y_test,predictions))"
   ]
  },
  {
   "cell_type": "code",
   "execution_count": 26,
   "metadata": {},
   "outputs": [],
   "source": [
    "from sklearn.linear_model import LogisticRegression"
   ]
  },
  {
   "cell_type": "code",
   "execution_count": 27,
   "metadata": {},
   "outputs": [],
   "source": [
    "model = LogisticRegression()"
   ]
  },
  {
   "cell_type": "code",
   "execution_count": 28,
   "metadata": {},
   "outputs": [
    {
     "name": "stderr",
     "output_type": "stream",
     "text": [
      "/Users/aydin/opt/anaconda3/lib/python3.7/site-packages/sklearn/linear_model/_logistic.py:765: ConvergenceWarning: lbfgs failed to converge (status=1):\n",
      "STOP: TOTAL NO. of ITERATIONS REACHED LIMIT.\n",
      "\n",
      "Increase the number of iterations (max_iter) or scale the data as shown in:\n",
      "    https://scikit-learn.org/stable/modules/preprocessing.html\n",
      "Please also refer to the documentation for alternative solver options:\n",
      "    https://scikit-learn.org/stable/modules/linear_model.html#logistic-regression\n",
      "  extra_warning_msg=_LOGISTIC_SOLVER_CONVERGENCE_MSG)\n"
     ]
    },
    {
     "data": {
      "text/plain": [
       "LogisticRegression()"
      ]
     },
     "execution_count": 28,
     "metadata": {},
     "output_type": "execute_result"
    }
   ],
   "source": [
    "#traing the model\n",
    "model.fit(X_train,y_train)"
   ]
  },
  {
   "cell_type": "code",
   "execution_count": 29,
   "metadata": {},
   "outputs": [],
   "source": [
    "model_lr = model"
   ]
  },
  {
   "cell_type": "code",
   "execution_count": 30,
   "metadata": {},
   "outputs": [],
   "source": [
    "#predictions based on model\n",
    "predictions = model.predict(X_test)"
   ]
  },
  {
   "cell_type": "code",
   "execution_count": 31,
   "metadata": {},
   "outputs": [
    {
     "data": {
      "text/plain": [
       "array([[  3,  34,  12],\n",
       "       [  3,  64,  42],\n",
       "       [  1,  22, 156]])"
      ]
     },
     "execution_count": 31,
     "metadata": {},
     "output_type": "execute_result"
    }
   ],
   "source": [
    "#results\n",
    "confusion_matrix(y_test,predictions)"
   ]
  },
  {
   "cell_type": "code",
   "execution_count": 32,
   "metadata": {},
   "outputs": [
    {
     "name": "stdout",
     "output_type": "stream",
     "text": [
      "              precision    recall  f1-score   support\n",
      "\n",
      "         1.0       0.43      0.06      0.11        49\n",
      "         2.0       0.53      0.59      0.56       109\n",
      "         3.0       0.74      0.87      0.80       179\n",
      "\n",
      "    accuracy                           0.66       337\n",
      "   macro avg       0.57      0.51      0.49       337\n",
      "weighted avg       0.63      0.66      0.62       337\n",
      "\n"
     ]
    }
   ],
   "source": [
    "#results\n",
    "print(classification_report(y_test,predictions))"
   ]
  },
  {
   "cell_type": "code",
   "execution_count": 33,
   "metadata": {},
   "outputs": [],
   "source": [
    "#improting models\n",
    "from sklearn.preprocessing import StandardScaler\n",
    "from sklearn.tree import DecisionTreeClassifier\n",
    "from sklearn.neighbors import KNeighborsClassifier\n",
    "from xgboost import XGBClassifier\n",
    "import time"
   ]
  },
  {
   "cell_type": "code",
   "execution_count": 34,
   "metadata": {},
   "outputs": [],
   "source": [
    "def classification_f1_time(df, target, decisiontree = True, randromforest=True, logit=True, kmean=(True,40), xgb=True, svc=True):\n",
    "    \"\"\"\n",
    "    it takes dataframe and return their results with running time\n",
    "    \"\"\"\n",
    "    df_c =df.copy()\n",
    "    X_train, X_test, y_train, y_test = train_test_split( df_c.drop(target,1),df_c[target], test_size=0.20 ,random_state=42)\n",
    "    scaler = StandardScaler()\n",
    "    scaler.fit(X_train)\n",
    "    X_train_s = scaler.transform(X_train)\n",
    "    X_test_s = scaler.transform(X_test)\n",
    "    x=[]\n",
    "    y=[]\n",
    "    t=[]\n",
    "    \n",
    "    if decisiontree:\n",
    "        now = time.time()\n",
    "        tree = DecisionTreeClassifier()\n",
    "        tree.fit(X_train, y_train)\n",
    "        y_pred = tree.predict(X_test)\n",
    "        now1 = time.time()\n",
    "        t.append(now1-now)\n",
    "        tree_f = f1_score(y_test,y_pred, average='weighted')\n",
    "        #print('DecisionTree')\n",
    "        x.append(tree_f)\n",
    "        y.append('DecisionTree')\n",
    "        \n",
    "    if randromforest:\n",
    "        now = time.time()\n",
    "        rand = RandomForestClassifier()\n",
    "        rand.fit(X_train, y_train)\n",
    "        y_pred = rand.predict(X_test)\n",
    "        now1 = time.time()\n",
    "        t.append(now1-now)\n",
    "        rand_f = f1_score(y_test,y_pred, average='weighted')\n",
    "        #print('RandomForestClassifier')\n",
    "        x.append(rand_f)\n",
    "        y.append('RandomForestClassifier')\n",
    "        \n",
    "    if logit:\n",
    "        now = time.time()\n",
    "        log = LogisticRegression()\n",
    "        log.fit(X_train_s, y_train)\n",
    "        y_pred = log.predict(X_test_s)\n",
    "        now1 = time.time()\n",
    "        t.append(now1-now)\n",
    "        log_f = f1_score(y_test,y_pred, average='weighted')\n",
    "        #print('logit')\n",
    "        x.append(log_f)\n",
    "        y.append('LogisticRegression')\n",
    "        \n",
    "    if xgb:\n",
    "        now = time.time()\n",
    "        xf = XGBClassifier()\n",
    "        xf.fit(X_train, y_train)\n",
    "        y_pred = xf.predict(X_test)\n",
    "        now1 = time.time()\n",
    "        t.append(now1-now)\n",
    "        xf_f = f1_score(y_test,y_pred, average='weighted')\n",
    "        #print('xgb')\n",
    "        x.append(xf_f)\n",
    "        y.append('XGBClassifier')\n",
    "        \n",
    "    if kmean[0]:\n",
    "        now = time.time()\n",
    "        acc = []\n",
    "        for i in range(1, kmean[1]):\n",
    "            neigh = KNeighborsClassifier(n_neighbors = i).fit(X_train_s,y_train)\n",
    "            yhat = neigh.predict(X_test_s)\n",
    "            acc.append(accuracy_score(y_test, yhat))\n",
    "        n = acc.index(max(acc)) + 1\n",
    "        neigh = KNeighborsClassifier(n_neighbors = n).fit(X_train_s,y_train)\n",
    "        y_pred = neigh.predict(X_test_s)\n",
    "        now1 = time.time()\n",
    "        t.append(now1-now)\n",
    "        km_f = f1_score(y_test,y_pred, average='weighted')\n",
    "        #print('kmeans')\n",
    "        x.append(km_f)\n",
    "        y.append('KNeighborsClassifier')\n",
    "    \n",
    "    if svc:\n",
    "        now = time.time()\n",
    "        sv = SVC()\n",
    "        sv.fit(X_train_s, y_train)\n",
    "        y_pred = sv.predict(X_test_s)\n",
    "        now1 = time.time()\n",
    "        t.append(now1-now)\n",
    "        sv_f = f1_score(y_test,y_pred, average='weighted')\n",
    "        #print('svc')\n",
    "        x.append(sv_f)\n",
    "        y.append('SVC')\n",
    "        \n",
    "\n",
    "    return pd.DataFrame(zip(y,x,t))"
   ]
  },
  {
   "cell_type": "code",
   "execution_count": 35,
   "metadata": {},
   "outputs": [
    {
     "data": {
      "text/html": [
       "<div>\n",
       "<style scoped>\n",
       "    .dataframe tbody tr th:only-of-type {\n",
       "        vertical-align: middle;\n",
       "    }\n",
       "\n",
       "    .dataframe tbody tr th {\n",
       "        vertical-align: top;\n",
       "    }\n",
       "\n",
       "    .dataframe thead th {\n",
       "        text-align: right;\n",
       "    }\n",
       "</style>\n",
       "<table border=\"1\" class=\"dataframe\">\n",
       "  <thead>\n",
       "    <tr style=\"text-align: right;\">\n",
       "      <th></th>\n",
       "      <th>0</th>\n",
       "      <th>1</th>\n",
       "      <th>2</th>\n",
       "    </tr>\n",
       "  </thead>\n",
       "  <tbody>\n",
       "    <tr>\n",
       "      <th>0</th>\n",
       "      <td>DecisionTree</td>\n",
       "      <td>0.850266</td>\n",
       "      <td>0.015136</td>\n",
       "    </tr>\n",
       "    <tr>\n",
       "      <th>1</th>\n",
       "      <td>RandomForestClassifier</td>\n",
       "      <td>0.940730</td>\n",
       "      <td>0.349666</td>\n",
       "    </tr>\n",
       "    <tr>\n",
       "      <th>2</th>\n",
       "      <td>LogisticRegression</td>\n",
       "      <td>0.589913</td>\n",
       "      <td>0.011789</td>\n",
       "    </tr>\n",
       "    <tr>\n",
       "      <th>3</th>\n",
       "      <td>XGBClassifier</td>\n",
       "      <td>0.853809</td>\n",
       "      <td>0.515148</td>\n",
       "    </tr>\n",
       "    <tr>\n",
       "      <th>4</th>\n",
       "      <td>KNeighborsClassifier</td>\n",
       "      <td>0.928988</td>\n",
       "      <td>1.019248</td>\n",
       "    </tr>\n",
       "    <tr>\n",
       "      <th>5</th>\n",
       "      <td>SVC</td>\n",
       "      <td>0.674252</td>\n",
       "      <td>0.107785</td>\n",
       "    </tr>\n",
       "  </tbody>\n",
       "</table>\n",
       "</div>"
      ],
      "text/plain": [
       "                        0         1         2\n",
       "0            DecisionTree  0.850266  0.015136\n",
       "1  RandomForestClassifier  0.940730  0.349666\n",
       "2      LogisticRegression  0.589913  0.011789\n",
       "3           XGBClassifier  0.853809  0.515148\n",
       "4    KNeighborsClassifier  0.928988  1.019248\n",
       "5                     SVC  0.674252  0.107785"
      ]
     },
     "execution_count": 35,
     "metadata": {},
     "output_type": "execute_result"
    }
   ],
   "source": [
    "classification_f1_time(df_model,'Status')"
   ]
  },
  {
   "cell_type": "code",
   "execution_count": 36,
   "metadata": {},
   "outputs": [
    {
     "data": {
      "text/plain": [
       "<AxesSubplot:xlabel='1', ylabel='0'>"
      ]
     },
     "execution_count": 36,
     "metadata": {},
     "output_type": "execute_result"
    },
    {
     "data": {
      "image/png": "[encoded data removed]",
      "text/plain": [
       "<Figure size 432x288 with 1 Axes>"
      ]
     },
     "metadata": {
      "needs_background": "light"
     },
     "output_type": "display_data"
    }
   ],
   "source": [
    "df_temp = classification_f1_time(df_model,'Status')\n",
    "sns.barplot(df_temp[1], df_temp[0],)"
   ]
  },
  {
   "cell_type": "code",
   "execution_count": 37,
   "metadata": {},
   "outputs": [],
   "source": [
    "#defining model dataframe\n",
    "df_model = df[['hc', 'csh_i', 'csh_g','rtfpna','inflation','exchange_rate','share_of_gdp','year','Status','country']].dropna()"
   ]
  },
  {
   "cell_type": "code",
   "execution_count": 38,
   "metadata": {},
   "outputs": [
    {
     "name": "stdout",
     "output_type": "stream",
     "text": [
      "<class 'pandas.core.frame.DataFrame'>\n",
      "Int64Index: 1683 entries, 120 to 12739\n",
      "Data columns (total 10 columns):\n",
      " #   Column         Non-Null Count  Dtype  \n",
      "---  ------         --------------  -----  \n",
      " 0   hc             1683 non-null   float64\n",
      " 1   csh_i          1683 non-null   float64\n",
      " 2   csh_g          1683 non-null   float64\n",
      " 3   rtfpna         1683 non-null   float64\n",
      " 4   inflation      1683 non-null   float64\n",
      " 5   exchange_rate  1683 non-null   float64\n",
      " 6   share_of_gdp   1683 non-null   float64\n",
      " 7   year           1683 non-null   int64  \n",
      " 8   Status         1683 non-null   float64\n",
      " 9   country        1683 non-null   object \n",
      "dtypes: float64(8), int64(1), object(1)\n",
      "memory usage: 144.6+ KB\n"
     ]
    }
   ],
   "source": [
    "df_model.info()"
   ]
  },
  {
   "cell_type": "code",
   "execution_count": 39,
   "metadata": {},
   "outputs": [],
   "source": [
    "#taking log of exchange rate columsn\n",
    "df_model[['exchange_rate']] = np.log(df_model[['exchange_rate']])"
   ]
  },
  {
   "cell_type": "code",
   "execution_count": 40,
   "metadata": {},
   "outputs": [
    {
     "name": "stdout",
     "output_type": "stream",
     "text": [
      "<class 'pandas.core.frame.DataFrame'>\n",
      "Int64Index: 1683 entries, 120 to 12739\n",
      "Data columns (total 10 columns):\n",
      " #   Column         Non-Null Count  Dtype  \n",
      "---  ------         --------------  -----  \n",
      " 0   hc             1683 non-null   float64\n",
      " 1   csh_i          1683 non-null   float64\n",
      " 2   csh_g          1683 non-null   float64\n",
      " 3   rtfpna         1683 non-null   float64\n",
      " 4   inflation      1683 non-null   float64\n",
      " 5   exchange_rate  1683 non-null   float64\n",
      " 6   share_of_gdp   1683 non-null   float64\n",
      " 7   year           1683 non-null   int64  \n",
      " 8   Status         1683 non-null   float64\n",
      " 9   country        1683 non-null   object \n",
      "dtypes: float64(8), int64(1), object(1)\n",
      "memory usage: 144.6+ KB\n"
     ]
    }
   ],
   "source": [
    "df_model.info()"
   ]
  },
  {
   "cell_type": "code",
   "execution_count": 41,
   "metadata": {},
   "outputs": [
    {
     "data": {
      "text/html": [
       "<div>\n",
       "<style scoped>\n",
       "    .dataframe tbody tr th:only-of-type {\n",
       "        vertical-align: middle;\n",
       "    }\n",
       "\n",
       "    .dataframe tbody tr th {\n",
       "        vertical-align: top;\n",
       "    }\n",
       "\n",
       "    .dataframe thead th {\n",
       "        text-align: right;\n",
       "    }\n",
       "</style>\n",
       "<table border=\"1\" class=\"dataframe\">\n",
       "  <thead>\n",
       "    <tr style=\"text-align: right;\">\n",
       "      <th></th>\n",
       "      <th>0</th>\n",
       "      <th>1</th>\n",
       "      <th>2</th>\n",
       "    </tr>\n",
       "  </thead>\n",
       "  <tbody>\n",
       "    <tr>\n",
       "      <th>0</th>\n",
       "      <td>DecisionTree</td>\n",
       "      <td>0.926145</td>\n",
       "      <td>0.020227</td>\n",
       "    </tr>\n",
       "    <tr>\n",
       "      <th>1</th>\n",
       "      <td>RandomForestClassifier</td>\n",
       "      <td>0.955492</td>\n",
       "      <td>0.348369</td>\n",
       "    </tr>\n",
       "    <tr>\n",
       "      <th>2</th>\n",
       "      <td>LogisticRegression</td>\n",
       "      <td>0.919881</td>\n",
       "      <td>0.095650</td>\n",
       "    </tr>\n",
       "    <tr>\n",
       "      <th>3</th>\n",
       "      <td>XGBClassifier</td>\n",
       "      <td>0.898318</td>\n",
       "      <td>3.108958</td>\n",
       "    </tr>\n",
       "    <tr>\n",
       "      <th>4</th>\n",
       "      <td>KNeighborsClassifier</td>\n",
       "      <td>0.967555</td>\n",
       "      <td>1.384351</td>\n",
       "    </tr>\n",
       "    <tr>\n",
       "      <th>5</th>\n",
       "      <td>SVC</td>\n",
       "      <td>0.920853</td>\n",
       "      <td>0.796290</td>\n",
       "    </tr>\n",
       "  </tbody>\n",
       "</table>\n",
       "</div>"
      ],
      "text/plain": [
       "                        0         1         2\n",
       "0            DecisionTree  0.926145  0.020227\n",
       "1  RandomForestClassifier  0.955492  0.348369\n",
       "2      LogisticRegression  0.919881  0.095650\n",
       "3           XGBClassifier  0.898318  3.108958\n",
       "4    KNeighborsClassifier  0.967555  1.384351\n",
       "5                     SVC  0.920853  0.796290"
      ]
     },
     "execution_count": 41,
     "metadata": {},
     "output_type": "execute_result"
    }
   ],
   "source": [
    "#results with country dummy dataframe\n",
    "classification_f1_time(pd.get_dummies(df_model),'Status')"
   ]
  },
  {
   "cell_type": "code",
   "execution_count": 42,
   "metadata": {},
   "outputs": [
    {
     "data": {
      "text/plain": [
       "<AxesSubplot:xlabel='1', ylabel='0'>"
      ]
     },
     "execution_count": 42,
     "metadata": {},
     "output_type": "execute_result"
    },
    {
     "data": {
      "image/png": "[encoded data removed]",
      "text/plain": [
       "<Figure size 432x288 with 1 Axes>"
      ]
     },
     "metadata": {
      "needs_background": "light"
     },
     "output_type": "display_data"
    }
   ],
   "source": [
    "df_temp = classification_f1_time(pd.get_dummies(df_model),'Status')\n",
    "sns.barplot(df_temp[1], df_temp[0],)"
   ]
  },
  {
   "cell_type": "code",
   "execution_count": 43,
   "metadata": {},
   "outputs": [],
   "source": [
    "#defining model dataframe\n",
    "df_model = df[['hc', 'csh_i', 'csh_g','rtfpna','inflation','share_of_gdp','year','Status','country']].dropna()"
   ]
  },
  {
   "cell_type": "code",
   "execution_count": 44,
   "metadata": {},
   "outputs": [
    {
     "name": "stdout",
     "output_type": "stream",
     "text": [
      "<class 'pandas.core.frame.DataFrame'>\n",
      "Int64Index: 2007 entries, 120 to 12808\n",
      "Data columns (total 9 columns):\n",
      " #   Column        Non-Null Count  Dtype  \n",
      "---  ------        --------------  -----  \n",
      " 0   hc            2007 non-null   float64\n",
      " 1   csh_i         2007 non-null   float64\n",
      " 2   csh_g         2007 non-null   float64\n",
      " 3   rtfpna        2007 non-null   float64\n",
      " 4   inflation     2007 non-null   float64\n",
      " 5   share_of_gdp  2007 non-null   float64\n",
      " 6   year          2007 non-null   int64  \n",
      " 7   Status        2007 non-null   float64\n",
      " 8   country       2007 non-null   object \n",
      "dtypes: float64(7), int64(1), object(1)\n",
      "memory usage: 156.8+ KB\n"
     ]
    }
   ],
   "source": [
    "df_model.info()"
   ]
  },
  {
   "cell_type": "code",
   "execution_count": 45,
   "metadata": {},
   "outputs": [
    {
     "name": "stderr",
     "output_type": "stream",
     "text": [
      "/Users/aydin/opt/anaconda3/lib/python3.7/site-packages/sklearn/linear_model/_logistic.py:765: ConvergenceWarning: lbfgs failed to converge (status=1):\n",
      "STOP: TOTAL NO. of ITERATIONS REACHED LIMIT.\n",
      "\n",
      "Increase the number of iterations (max_iter) or scale the data as shown in:\n",
      "    https://scikit-learn.org/stable/modules/preprocessing.html\n",
      "Please also refer to the documentation for alternative solver options:\n",
      "    https://scikit-learn.org/stable/modules/linear_model.html#logistic-regression\n",
      "  extra_warning_msg=_LOGISTIC_SOLVER_CONVERGENCE_MSG)\n"
     ]
    },
    {
     "data": {
      "text/html": [
       "<div>\n",
       "<style scoped>\n",
       "    .dataframe tbody tr th:only-of-type {\n",
       "        vertical-align: middle;\n",
       "    }\n",
       "\n",
       "    .dataframe tbody tr th {\n",
       "        vertical-align: top;\n",
       "    }\n",
       "\n",
       "    .dataframe thead th {\n",
       "        text-align: right;\n",
       "    }\n",
       "</style>\n",
       "<table border=\"1\" class=\"dataframe\">\n",
       "  <thead>\n",
       "    <tr style=\"text-align: right;\">\n",
       "      <th></th>\n",
       "      <th>0</th>\n",
       "      <th>1</th>\n",
       "      <th>2</th>\n",
       "    </tr>\n",
       "  </thead>\n",
       "  <tbody>\n",
       "    <tr>\n",
       "      <th>0</th>\n",
       "      <td>DecisionTree</td>\n",
       "      <td>0.912454</td>\n",
       "      <td>0.033217</td>\n",
       "    </tr>\n",
       "    <tr>\n",
       "      <th>1</th>\n",
       "      <td>RandomForestClassifier</td>\n",
       "      <td>0.967611</td>\n",
       "      <td>1.180032</td>\n",
       "    </tr>\n",
       "    <tr>\n",
       "      <th>2</th>\n",
       "      <td>LogisticRegression</td>\n",
       "      <td>0.960328</td>\n",
       "      <td>0.189163</td>\n",
       "    </tr>\n",
       "    <tr>\n",
       "      <th>3</th>\n",
       "      <td>XGBClassifier</td>\n",
       "      <td>0.911018</td>\n",
       "      <td>3.811899</td>\n",
       "    </tr>\n",
       "    <tr>\n",
       "      <th>4</th>\n",
       "      <td>KNeighborsClassifier</td>\n",
       "      <td>0.967784</td>\n",
       "      <td>1.162125</td>\n",
       "    </tr>\n",
       "    <tr>\n",
       "      <th>5</th>\n",
       "      <td>SVC</td>\n",
       "      <td>0.950606</td>\n",
       "      <td>0.171972</td>\n",
       "    </tr>\n",
       "  </tbody>\n",
       "</table>\n",
       "</div>"
      ],
      "text/plain": [
       "                        0         1         2\n",
       "0            DecisionTree  0.912454  0.033217\n",
       "1  RandomForestClassifier  0.967611  1.180032\n",
       "2      LogisticRegression  0.960328  0.189163\n",
       "3           XGBClassifier  0.911018  3.811899\n",
       "4    KNeighborsClassifier  0.967784  1.162125\n",
       "5                     SVC  0.950606  0.171972"
      ]
     },
     "execution_count": 45,
     "metadata": {},
     "output_type": "execute_result"
    }
   ],
   "source": [
    "#results with country dummy dataframe\n",
    "classification_f1_time(pd.get_dummies(df_model),'Status')"
   ]
  },
  {
   "cell_type": "code",
   "execution_count": 46,
   "metadata": {},
   "outputs": [
    {
     "name": "stderr",
     "output_type": "stream",
     "text": [
      "/Users/aydin/opt/anaconda3/lib/python3.7/site-packages/sklearn/linear_model/_logistic.py:765: ConvergenceWarning: lbfgs failed to converge (status=1):\n",
      "STOP: TOTAL NO. of ITERATIONS REACHED LIMIT.\n",
      "\n",
      "Increase the number of iterations (max_iter) or scale the data as shown in:\n",
      "    https://scikit-learn.org/stable/modules/preprocessing.html\n",
      "Please also refer to the documentation for alternative solver options:\n",
      "    https://scikit-learn.org/stable/modules/linear_model.html#logistic-regression\n",
      "  extra_warning_msg=_LOGISTIC_SOLVER_CONVERGENCE_MSG)\n"
     ]
    },
    {
     "data": {
      "text/plain": [
       "<AxesSubplot:xlabel='1', ylabel='0'>"
      ]
     },
     "execution_count": 46,
     "metadata": {},
     "output_type": "execute_result"
    },
    {
     "data": {
      "image/png": "[encoded data removed]",
      "text/plain": [
       "<Figure size 432x288 with 1 Axes>"
      ]
     },
     "metadata": {
      "needs_background": "light"
     },
     "output_type": "display_data"
    }
   ],
   "source": [
    "\n",
    "df_temp = classification_f1_time(pd.get_dummies(df_model),'Status')\n",
    "sns.barplot(df_temp[1], df_temp[0],)"
   ]
  },
  {
   "cell_type": "code",
   "execution_count": 47,
   "metadata": {},
   "outputs": [],
   "source": [
    "#defining model dataframe\n",
    "df_model = df[['gdp_per', 'csh_i', 'csh_g','inflation','share_of_gdp','year','Status','country']].dropna()"
   ]
  },
  {
   "cell_type": "code",
   "execution_count": 48,
   "metadata": {},
   "outputs": [
    {
     "name": "stdout",
     "output_type": "stream",
     "text": [
      "<class 'pandas.core.frame.DataFrame'>\n",
      "Int64Index: 2798 entries, 120 to 12808\n",
      "Data columns (total 8 columns):\n",
      " #   Column        Non-Null Count  Dtype  \n",
      "---  ------        --------------  -----  \n",
      " 0   gdp_per       2798 non-null   float64\n",
      " 1   csh_i         2798 non-null   float64\n",
      " 2   csh_g         2798 non-null   float64\n",
      " 3   inflation     2798 non-null   float64\n",
      " 4   share_of_gdp  2798 non-null   float64\n",
      " 5   year          2798 non-null   int64  \n",
      " 6   Status        2798 non-null   float64\n",
      " 7   country       2798 non-null   object \n",
      "dtypes: float64(6), int64(1), object(1)\n",
      "memory usage: 196.7+ KB\n"
     ]
    }
   ],
   "source": [
    "df_model.info()"
   ]
  },
  {
   "cell_type": "code",
   "execution_count": 49,
   "metadata": {},
   "outputs": [
    {
     "name": "stderr",
     "output_type": "stream",
     "text": [
      "/Users/aydin/opt/anaconda3/lib/python3.7/site-packages/sklearn/linear_model/_logistic.py:765: ConvergenceWarning: lbfgs failed to converge (status=1):\n",
      "STOP: TOTAL NO. of ITERATIONS REACHED LIMIT.\n",
      "\n",
      "Increase the number of iterations (max_iter) or scale the data as shown in:\n",
      "    https://scikit-learn.org/stable/modules/preprocessing.html\n",
      "Please also refer to the documentation for alternative solver options:\n",
      "    https://scikit-learn.org/stable/modules/linear_model.html#logistic-regression\n",
      "  extra_warning_msg=_LOGISTIC_SOLVER_CONVERGENCE_MSG)\n"
     ]
    },
    {
     "data": {
      "text/html": [
       "<div>\n",
       "<style scoped>\n",
       "    .dataframe tbody tr th:only-of-type {\n",
       "        vertical-align: middle;\n",
       "    }\n",
       "\n",
       "    .dataframe tbody tr th {\n",
       "        vertical-align: top;\n",
       "    }\n",
       "\n",
       "    .dataframe thead th {\n",
       "        text-align: right;\n",
       "    }\n",
       "</style>\n",
       "<table border=\"1\" class=\"dataframe\">\n",
       "  <thead>\n",
       "    <tr style=\"text-align: right;\">\n",
       "      <th></th>\n",
       "      <th>0</th>\n",
       "      <th>1</th>\n",
       "      <th>2</th>\n",
       "    </tr>\n",
       "  </thead>\n",
       "  <tbody>\n",
       "    <tr>\n",
       "      <th>0</th>\n",
       "      <td>DecisionTree</td>\n",
       "      <td>0.917988</td>\n",
       "      <td>0.040506</td>\n",
       "    </tr>\n",
       "    <tr>\n",
       "      <th>1</th>\n",
       "      <td>RandomForestClassifier</td>\n",
       "      <td>0.960816</td>\n",
       "      <td>0.523570</td>\n",
       "    </tr>\n",
       "    <tr>\n",
       "      <th>2</th>\n",
       "      <td>LogisticRegression</td>\n",
       "      <td>0.925160</td>\n",
       "      <td>0.209386</td>\n",
       "    </tr>\n",
       "    <tr>\n",
       "      <th>3</th>\n",
       "      <td>XGBClassifier</td>\n",
       "      <td>0.891599</td>\n",
       "      <td>7.343972</td>\n",
       "    </tr>\n",
       "    <tr>\n",
       "      <th>4</th>\n",
       "      <td>KNeighborsClassifier</td>\n",
       "      <td>0.958864</td>\n",
       "      <td>2.695197</td>\n",
       "    </tr>\n",
       "    <tr>\n",
       "      <th>5</th>\n",
       "      <td>SVC</td>\n",
       "      <td>0.932035</td>\n",
       "      <td>0.368403</td>\n",
       "    </tr>\n",
       "  </tbody>\n",
       "</table>\n",
       "</div>"
      ],
      "text/plain": [
       "                        0         1         2\n",
       "0            DecisionTree  0.917988  0.040506\n",
       "1  RandomForestClassifier  0.960816  0.523570\n",
       "2      LogisticRegression  0.925160  0.209386\n",
       "3           XGBClassifier  0.891599  7.343972\n",
       "4    KNeighborsClassifier  0.958864  2.695197\n",
       "5                     SVC  0.932035  0.368403"
      ]
     },
     "execution_count": 49,
     "metadata": {},
     "output_type": "execute_result"
    }
   ],
   "source": [
    "#results with country dummy dataframe\n",
    "classification_f1_time(pd.get_dummies(df_model),'Status')"
   ]
  },
  {
   "cell_type": "code",
   "execution_count": 50,
   "metadata": {},
   "outputs": [],
   "source": [
    "#defining model dataframe\n",
    "df_model = df[['gdp_per', 'csh_i','military_expt', 'csh_g','inflation','share_of_gdp','year','Status','country']].dropna()"
   ]
  },
  {
   "cell_type": "code",
   "execution_count": 51,
   "metadata": {},
   "outputs": [
    {
     "name": "stderr",
     "output_type": "stream",
     "text": [
      "/Users/aydin/opt/anaconda3/lib/python3.7/site-packages/sklearn/linear_model/_logistic.py:765: ConvergenceWarning: lbfgs failed to converge (status=1):\n",
      "STOP: TOTAL NO. of ITERATIONS REACHED LIMIT.\n",
      "\n",
      "Increase the number of iterations (max_iter) or scale the data as shown in:\n",
      "    https://scikit-learn.org/stable/modules/preprocessing.html\n",
      "Please also refer to the documentation for alternative solver options:\n",
      "    https://scikit-learn.org/stable/modules/linear_model.html#logistic-regression\n",
      "  extra_warning_msg=_LOGISTIC_SOLVER_CONVERGENCE_MSG)\n"
     ]
    },
    {
     "data": {
      "text/html": [
       "<div>\n",
       "<style scoped>\n",
       "    .dataframe tbody tr th:only-of-type {\n",
       "        vertical-align: middle;\n",
       "    }\n",
       "\n",
       "    .dataframe tbody tr th {\n",
       "        vertical-align: top;\n",
       "    }\n",
       "\n",
       "    .dataframe thead th {\n",
       "        text-align: right;\n",
       "    }\n",
       "</style>\n",
       "<table border=\"1\" class=\"dataframe\">\n",
       "  <thead>\n",
       "    <tr style=\"text-align: right;\">\n",
       "      <th></th>\n",
       "      <th>0</th>\n",
       "      <th>1</th>\n",
       "      <th>2</th>\n",
       "    </tr>\n",
       "  </thead>\n",
       "  <tbody>\n",
       "    <tr>\n",
       "      <th>0</th>\n",
       "      <td>DecisionTree</td>\n",
       "      <td>0.916979</td>\n",
       "      <td>0.036390</td>\n",
       "    </tr>\n",
       "    <tr>\n",
       "      <th>1</th>\n",
       "      <td>RandomForestClassifier</td>\n",
       "      <td>0.953442</td>\n",
       "      <td>0.452455</td>\n",
       "    </tr>\n",
       "    <tr>\n",
       "      <th>2</th>\n",
       "      <td>LogisticRegression</td>\n",
       "      <td>0.915841</td>\n",
       "      <td>0.176003</td>\n",
       "    </tr>\n",
       "    <tr>\n",
       "      <th>3</th>\n",
       "      <td>XGBClassifier</td>\n",
       "      <td>0.890805</td>\n",
       "      <td>5.164361</td>\n",
       "    </tr>\n",
       "    <tr>\n",
       "      <th>4</th>\n",
       "      <td>KNeighborsClassifier</td>\n",
       "      <td>0.961836</td>\n",
       "      <td>2.799367</td>\n",
       "    </tr>\n",
       "    <tr>\n",
       "      <th>5</th>\n",
       "      <td>SVC</td>\n",
       "      <td>0.905640</td>\n",
       "      <td>0.270035</td>\n",
       "    </tr>\n",
       "  </tbody>\n",
       "</table>\n",
       "</div>"
      ],
      "text/plain": [
       "                        0         1         2\n",
       "0            DecisionTree  0.916979  0.036390\n",
       "1  RandomForestClassifier  0.953442  0.452455\n",
       "2      LogisticRegression  0.915841  0.176003\n",
       "3           XGBClassifier  0.890805  5.164361\n",
       "4    KNeighborsClassifier  0.961836  2.799367\n",
       "5                     SVC  0.905640  0.270035"
      ]
     },
     "execution_count": 51,
     "metadata": {},
     "output_type": "execute_result"
    }
   ],
   "source": [
    "#results with country dummy dataframe\n",
    "classification_f1_time(pd.get_dummies(df_model),'Status')"
   ]
  },
  {
   "cell_type": "code",
   "execution_count": 54,
   "metadata": {},
   "outputs": [
    {
     "data": {
      "text/plain": [
       "<AxesSubplot:>"
      ]
     },
     "execution_count": 54,
     "metadata": {},
     "output_type": "execute_result"
    },
    {
     "data": {
      "image/png": "[encoded data removed]",
      "text/plain": [
       "<Figure size 432x288 with 1 Axes>"
      ]
     },
     "metadata": {
      "needs_background": "light"
     },
     "output_type": "display_data"
    }
   ],
   "source": [
    "#finding which variable has the most effect\n",
    "sns.barplot(model_rf.feature_importances_, X_train.columns)"
   ]
  },
  {
   "cell_type": "code",
   "execution_count": 56,
   "metadata": {},
   "outputs": [
    {
     "data": {
      "text/plain": [
       "<AxesSubplot:xlabel='1', ylabel='0'>"
      ]
     },
     "execution_count": 56,
     "metadata": {},
     "output_type": "execute_result"
    },
    {
     "data": {
      "image/png": "[encoded data removed]",
      "text/plain": [
       "<Figure size 432x288 with 1 Axes>"
      ]
     },
     "metadata": {
      "needs_background": "light"
     },
     "output_type": "display_data"
    }
   ],
   "source": [
    "df_temm = pd.DataFrame(zip(X_train.columns, model_rf.feature_importances_))\n",
    "sns.barplot(x = 1, y = 0, data= df_temm.sort_values(by = 1))"
   ]
  },
  {
   "cell_type": "code",
   "execution_count": null,
   "metadata": {},
   "outputs": [],
   "source": []
  }
 ],
 "metadata": {
  "kernelspec": {
   "display_name": "Python 3",
   "language": "python",
   "name": "python3"
  },
  "language_info": {
   "codemirror_mode": {
    "name": "ipython",
    "version": 3
   },
   "file_extension": ".py",
   "mimetype": "text/x-python",
   "name": "python",
   "nbconvert_exporter": "python",
   "pygments_lexer": "ipython3",
   "version": "3.7.6"
  }
 },
 "nbformat": 4,
 "nbformat_minor": 4
}
